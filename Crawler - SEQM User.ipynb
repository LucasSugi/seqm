{
 "cells": [
  {
   "cell_type": "code",
   "execution_count": null,
   "metadata": {},
   "outputs": [],
   "source": [
    "# Imports\n",
    "library(rvest)\n",
    "library(dplyr)\n",
    "library(writexl)\n",
    "library(readxl)"
   ]
  },
  {
   "cell_type": "code",
   "execution_count": null,
   "metadata": {},
   "outputs": [],
   "source": [
    "# Function to generate table from url seqm\n",
    "generate_table <- function(site_html) {\n",
    "    \n",
    "    # Create a table from html structure\n",
    "    seqm = site_html %>% html_nodes('table') %>% html_table()\n",
    "    seqm = seqm[[1]]\n",
    "\n",
    "    # Ignore the first column\n",
    "    seqm = seqm[seq(from=2,to=ncol(seqm))]\n",
    "\n",
    "    # Link of each person\n",
    "    links = site_html %>% html_nodes('table') %>% html_nodes('a') %>% html_attr('href')\n",
    "\n",
    "    # Add links to seqm's table\n",
    "    seqm['Link'] = links\n",
    "    \n",
    "    return (seqm)\n",
    "}"
   ]
  },
  {
   "cell_type": "code",
   "execution_count": null,
   "metadata": {},
   "outputs": [],
   "source": [
    "# Try to start crawler\n",
    "start_crawler = try ( {\n",
    "    # Start url to get data\n",
    "    start_url = 'https://seqm.com.br/ranking/pessoa/proprietarios'\n",
    "\n",
    "    # Get html from url\n",
    "    site = read_html(start_url)\n",
    "\n",
    "    # Amount of pages to visit\n",
    "    pages_to_visit = site %>% html_nodes(xpath = '/html/body/div[2]/div[2]/main/section/div/ul/li/a') %>% html_text()\n",
    "}, silent=TRUE)"
   ]
  },
  {
   "cell_type": "code",
   "execution_count": null,
   "metadata": {},
   "outputs": [],
   "source": [
    "if (\"try-error\" %in% class(start_crawler)) {\n",
    "    print('Some error happens')\n",
    "} else {\n",
    "    \n",
    "    # Empty data frame\n",
    "    seqm_final = data.frame()\n",
    "    \n",
    "    # Count of erros\n",
    "    error_count = 0\n",
    "\n",
    "    # Run for each url page\n",
    "    i = 1\n",
    "    while (i <= length(pages_to_visit[c(1,2)])){\n",
    "        error = try({\n",
    "            # Genereate url to search\n",
    "            url = paste('https://seqm.com.br/ranking/pessoa/proprietarios?pagina=',pages_to_visit[i],sep=\"\")\n",
    "\n",
    "            # Get html from url\n",
    "            site = read_html(url)\n",
    "\n",
    "            # Create table\n",
    "            seqm = generate_table(site)\n",
    "\n",
    "            # Save bkp file\n",
    "            write_xlsx(seqm,path=paste(getwd(),'/Log_user/seqm_user_bkp',i,'.xlsx','',sep=\"\"))\n",
    "\n",
    "            # Concat dataframes\n",
    "            seqm_final = rbind(seqm,seqm_final)\n",
    "\n",
    "            # Wait 2 seconds before start to a next page\n",
    "            Sys.sleep(2)\n",
    "            \n",
    "        }, silent = TRUE)\n",
    "        \n",
    "        # If some error happens try again\n",
    "        if (\"try-error\" %in% class(error)) {\n",
    "            error_count = error_count + 1\n",
    "        } else {\n",
    "            i = i + 1\n",
    "            error_count = 0\n",
    "        }\n",
    "        \n",
    "        # Maximium of 4 tries\n",
    "        if(error_count == 4){\n",
    "            error_count = 0\n",
    "            i = i + 1\n",
    "        }\n",
    "    }\n",
    "\n",
    "    # Generate an ID for each user\n",
    "    seqm_final$Id = seqm_final$Link %>% lapply(function(x) {\n",
    "        return (strsplit(x,'/')[[1]][6])\n",
    "    })\n",
    "    seqm_final$Id = unlist(seqm_final$Id)\n",
    "\n",
    "    # Drop duplicates\n",
    "    seqm_final = unique(seqm_final)\n",
    "    \n",
    "    # Change the colname\n",
    "    colnames(seqm_final)[colnames(seqm_final) == \"Proprietário\"] = \"Proprietario\"\n",
    "\n",
    "    # Save file\n",
    "    write_xlsx(seqm_final,path=paste(getwd(),'/seqm_user.xlsx',sep=\"\"))\n",
    "}"
   ]
  },
  {
   "cell_type": "code",
   "execution_count": null,
   "metadata": {},
   "outputs": [],
   "source": [
    "# Read files\n",
    "seqm = read_xlsx(paste(getwd(),'/seqm_user.xlsx',sep=\"\"))\n",
    "seqm_updated = read_xlsx(paste(getwd(),'/seqm_user_updated.xlsx',sep=\"\"))\n",
    "\n",
    "# Updating data\n",
    "seqm_updated = seqm_updated %>% filter(!Id %in% seqm$Id)\n",
    "\n",
    "# Concat data frames\n",
    "seqm_updated = rbind(seqm_updated,seqm)"
   ]
  },
  {
   "cell_type": "code",
   "execution_count": null,
   "metadata": {},
   "outputs": [],
   "source": [
    "# Save file\n",
    "write_xlsx(seqm_updated,path=paste(getwd(),'/seqm_user_updated.xlsx',sep=\"\"))"
   ]
  }
 ],
 "metadata": {
  "kernelspec": {
   "display_name": "R",
   "language": "R",
   "name": "ir"
  },
  "language_info": {
   "codemirror_mode": "r",
   "file_extension": ".r",
   "mimetype": "text/x-r-source",
   "name": "R",
   "pygments_lexer": "r",
   "version": "3.6.1"
  }
 },
 "nbformat": 4,
 "nbformat_minor": 4
}
